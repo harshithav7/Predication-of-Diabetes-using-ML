{
 "cells": [
  {
   "cell_type": "code",
   "execution_count": null,
   "metadata": {},
   "outputs": [],
   "source": [
    "import numpy as np # linear algebra\n",
    "import pandas as pd # data processing, CSV file I/O (e.g. pd.read_csv)\n",
    "import os\n",
    "import warnings\n",
    "warnings.filterwarnings('ignore')\n",
    "\n",
    "#Visualisation libraries\n",
    "\n",
    "import seaborn as sns\n",
    "import matplotlib.pyplot as plt\n",
    "\n",
    "#To scale our data\n",
    "from sklearn.preprocessing import StandardScaler\n",
    "\n",
    "#To split the data into training and testing set\n",
    "from sklearn.model_selection import train_test_split\n",
    "\n",
    "#Classification model- Support Vector Machine\n",
    "from sklearn.svm import SVC\n",
    "\n",
    "#Classification model performance metrics\n",
    "from sklearn.metrics import accuracy_score,confusion_matrix,classification_report,roc_auc_score"
   ]
  },
  {
   "cell_type": "code",
   "execution_count": null,
   "metadata": {},
   "outputs": [],
   "source": [
    "df=pd.read_csv(r\"C:\\Users\\Harshitha\\OneDrive\\Desktop\\diabetes (1) (1).csv\")\n",
    "df.head()"
   ]
  },
  {
   "cell_type": "code",
   "execution_count": null,
   "metadata": {},
   "outputs": [],
   "source": [
    "df.shape"
   ]
  },
  {
   "cell_type": "code",
   "execution_count": null,
   "metadata": {},
   "outputs": [],
   "source": [
    "df.info()"
   ]
  },
  {
   "cell_type": "code",
   "execution_count": null,
   "metadata": {},
   "outputs": [],
   "source": [
    "df.describe()"
   ]
  },
  {
   "cell_type": "code",
   "execution_count": null,
   "metadata": {},
   "outputs": [],
   "source": [
    "sns.pairplot(df,hue='Outcome')"
   ]
  },
  {
   "cell_type": "code",
   "execution_count": null,
   "metadata": {},
   "outputs": [],
   "source": [
    "plt.figure(figsize=(8,2))\n",
    "sns.heatmap(df.corr(),annot=True,cmap='coolwarm')\n",
    "plt.show()"
   ]
  },
  {
   "cell_type": "code",
   "execution_count": null,
   "metadata": {},
   "outputs": [],
   "source": [
    "plt.figure(figsize=(20,5))\n",
    "for i,col in enumerate(df.iloc[:,:-1]):\n",
    "    plt.subplot(2,4,i+1)\n",
    "    sns.kdeplot(df[col],shade=True)\n",
    "plt.show()"
   ]
  },
  {
   "cell_type": "code",
   "execution_count": null,
   "metadata": {},
   "outputs": [],
   "source": [
    "df.groupby('Outcome').mean()"
   ]
  },
  {
   "cell_type": "code",
   "execution_count": null,
   "metadata": {},
   "outputs": [],
   "source": [
    "x=df.drop('Outcome',axis=1)\n",
    "y=df['Outcome']"
   ]
  },
  {
   "cell_type": "code",
   "execution_count": null,
   "metadata": {},
   "outputs": [],
   "source": [
    "ss=StandardScaler()\n",
    "ss.fit(x)"
   ]
  },
  {
   "cell_type": "code",
   "execution_count": null,
   "metadata": {},
   "outputs": [],
   "source": [
    "x=ss.transform(x)"
   ]
  },
  {
   "cell_type": "code",
   "execution_count": null,
   "metadata": {},
   "outputs": [],
   "source": [
    "xtrain,xtest,ytrain,ytest=train_test_split(x,y,random_state=200,test_size=0.3,stratify=y)"
   ]
  },
  {
   "cell_type": "code",
   "execution_count": null,
   "metadata": {},
   "outputs": [],
   "source": [
    "model=SVC(kernel='linear',C=10.0)\n",
    "\n",
    "model.fit(xtrain,ytrain)\n",
    "ypred=model.predict(xtest) \n",
    "ac=accuracy_score(ytest,ypred) \n",
    "cm=confusion_matrix(ytest,ypred) \n",
    "cr=classification_report(ytest,ypred) \n",
    "train=model.score(xtrain,ytrain) \n",
    "test=model.score(xtest,ytest)\n",
    "    \n",
    "print(f'{model} Accuracy:{ac}\\n{cm}\\n{cr}\\nTraining Accuracy: {train}\\nTesting Accuracy: {test}')"
   ]
  },
  {
   "cell_type": "code",
   "execution_count": null,
   "metadata": {},
   "outputs": [],
   "source": [
    "def prediction(input_data=()):\n",
    "    #Converting to numpy array\n",
    "    array_input_data=np.asarray(input_data)\n",
    "    \n",
    "    #Reshaping to tell the model we want prediction for 1 instance\n",
    "    x=array_input_data.reshape(1,-1)\n",
    "    \n",
    "    #Standardising data\n",
    "    standard_x=ss.transform(x)\n",
    "    \n",
    "    #Predicting \n",
    "    p=model.predict(standard_x)\n",
    "    \n",
    "    #Returning the prediction\n",
    "    if p==0:\n",
    "        print('Patient is not Diabetic')\n",
    "    else:\n",
    "        print('Patient is Diabetic')\n",
    "    \n",
    "    return p"
   ]
  },
  {
   "cell_type": "code",
   "execution_count": null,
   "metadata": {},
   "outputs": [],
   "source": [
    "prediction([4,110,92,0,0,37.6,0.191,30])"
   ]
  },
  {
   "cell_type": "code",
   "execution_count": null,
   "metadata": {},
   "outputs": [],
   "source": [
    "prediction([6,110,92,0,0,86.6,0.191,60])"
   ]
  },
  {
   "cell_type": "markdown",
   "metadata": {},
   "source": [
    "# THIS IS UI"
   ]
  },
  {
   "cell_type": "code",
   "execution_count": null,
   "metadata": {},
   "outputs": [],
   "source": [
    "import webbrowser\n",
    "from tkinter import Frame,Label,Entry,Button,StringVar,Tk\n",
    "import numpy as np\n",
    "root =Tk()\n",
    "root.configure(bg='yellow')\n",
    "\n",
    "# setting the windows size\n",
    "root.geometry(\"1000x1000\")\n",
    "    \n",
    "def clearentry():\n",
    "    entry1.delete(0,'end')\n",
    "    entry2.delete(0,'end')\n",
    "    entry3.delete(0,'end')\n",
    "    entry3.delete(0,'end')\n",
    "    entry4.delete(0,'end')\n",
    "    entry5.delete(0,'end')\n",
    "    entry6.delete(0,'end')\n",
    "    entry7.delete(0,'end')\n",
    "    entry8.delete(0,'end')\n",
    "    outputlabel.configure(text= 'Output will be shown here')\n",
    "    \n",
    "    \n",
    "def callback(url):\n",
    "    webbrowser.open_new(url)\n",
    "    \n",
    "\n",
    "def take_data():\n",
    "    d1 = []\n",
    "    d1.append(entry1.get())\n",
    "    d1.append(entry2.get())\n",
    "    d1.append(entry3.get())\n",
    "    d1.append(entry4.get())\n",
    "    d1.append(entry5.get())\n",
    "    d1.append(entry6.get())\n",
    "    d1.append(entry7.get())\n",
    "    d1.append(entry8.get())\n",
    "    d2 = []\n",
    "    d2.append(d1)\n",
    "    \n",
    "    #Standardising data\n",
    "    standard_x=ss.transform(d2)\n",
    "    \n",
    "    #Predicting \n",
    "    p=model.predict(standard_x)\n",
    "    \n",
    "    if p==1:\n",
    "        outputlabel.configure(text='PAITENT IS DIABETIC')\n",
    "        print(\"PAITENT IS DIABETIC\")\n",
    "    else:  \n",
    "        outputlabel.configure(text='PATIENT IS NORMAL')\n",
    "        print(\"PAITENT IS NORMAL\")\n",
    "    \n",
    "displayFrame = Frame(root,bg =\"yellow\")\n",
    "displayFrame.pack(pady=20)\n",
    "\n",
    "detailsframe = Frame(displayFrame,bg='yellow')\n",
    "detailsframe.pack()\n",
    "desclabel= Label(detailsframe,text = 'Diabetes Prediction Using Machine Learning ',height=2,bg='red',font=('default',30))\n",
    "desclabel.grid(columnspan=10)\n",
    "\n",
    "asklabel= Label(detailsframe,text = 'Enter input data to check',font=('default',14),bg='yellow',height=2)\n",
    "asklabel.grid(row=1,padx=80,columnspan=10)\n",
    "\n",
    "label1 = Label(detailsframe,text='Pregnancies',bg='yellow',font=('default',20))\n",
    "label1.grid(pady=3,row = 2,column=4)\n",
    "\n",
    "entry1 = Entry(detailsframe,width=8,font=('default',10))\n",
    "entry1.grid(row = 2,column=5)\n",
    "\n",
    "label2 = Label(detailsframe,text='Glucose',bg='yellow',font=('default',20))\n",
    "label2.grid(pady=3,row = 3,column=4)\n",
    "\n",
    "entry2 = Entry(detailsframe,width=8,font=('default',10))\n",
    "entry2.grid(row = 3,column=5)\n",
    "\n",
    "label3 = Label(detailsframe,text='BloodPressure',bg='yellow',font=('default',20))\n",
    "label3.grid(pady=3,row = 4,column=4)\n",
    "\n",
    "entry3 = Entry(detailsframe,width=8,font=('default',10))\n",
    "entry3.grid(row = 4,column=5)\n",
    "\n",
    "label4 = Label(detailsframe,text='SkinThickness',bg='yellow',font=('default',20))\n",
    "label4.grid(pady=3,row = 5,column=4)\n",
    "\n",
    "entry4 = Entry(detailsframe,width=8,font=('default',10))\n",
    "entry4.grid(row = 5,column=5)\n",
    "\n",
    "label5 = Label(detailsframe,text='Insulin',bg='yellow',font=('default',20))\n",
    "label5.grid(pady=3,row = 6,column=4)\n",
    "\n",
    "entry5 = Entry(detailsframe,width=8,font=('default',10))\n",
    "entry5.grid(row = 6,column=5)\n",
    "\n",
    "label6 = Label(detailsframe,text='BMI',bg='yellow',font=('default',20))\n",
    "label6.grid(pady=3,row = 7,column=4)\n",
    "\n",
    "entry6 = Entry(detailsframe,width=8,font=('default',10))\n",
    "entry6.grid(row = 7,column=5)\n",
    "\n",
    "label7 = Label(detailsframe,text='DiabetesPedigreeFunction',bg='yellow',font=('default',20))\n",
    "label7.grid(pady=3,row = 8,column=4)\n",
    "\n",
    "entry7 = Entry(detailsframe,width=8,font=('default',10))\n",
    "entry7.grid(row = 8,column=5)\n",
    "\n",
    "label8 = Label(detailsframe,text='Age',bg='yellow',font=('default',20))\n",
    "label8.grid(pady=3,row = 9,column=4)\n",
    "\n",
    "entry8 = Entry(detailsframe,width=8,font=('default',10))\n",
    "entry8.grid(row = 9,column=5)\n",
    "\n",
    "\n",
    "clearbutton = Button(detailsframe,text='Clear All',bg='green',font=('default',14),command=lambda:learnentry())\n",
    "clearbutton.grid(row = 8,column=7,padx=5,pady=5)\n",
    "\n",
    "\n",
    "checkbutton = Button(detailsframe,text='Check',width=10,bg='green',font=('default',14),command=lambda:take_data())\n",
    "checkbutton.grid(columnspan=10,pady=10)\n",
    "\n",
    "outputlabel = Label(detailsframe,text='Output',font=('default',14),bg='green',height=2)\n",
    "outputlabel.grid(padx=80,columnspan=10,pady=5)\n",
    "\n",
    "link1 = Label(detailsframe, text=\"Know more about Diabities\", fg=\"black\", cursor=\"hand2\",font=('default',14),bg='green',height=2)\n",
    "link1.grid(columnspan=10,pady=5)\n",
    "link1.bind(\"<Button-1>\", lambda e: callback(\"https://www.cdc.gov/diabetes/basics/diabetes.html#:~:text=Diabetes%20is%20a%20chronic%20(long,your%20pancreas%20to%20release%20insulin.\"))\n",
    "\n",
    "root.mainloop()\n"
   ]
  },
  {
   "cell_type": "code",
   "execution_count": null,
   "metadata": {},
   "outputs": [],
   "source": [
    "from sklearn.linear_model import LogisticRegression\n",
    "from sklearn.model_selection import train_test_split\n"
   ]
  },
  {
   "cell_type": "code",
   "execution_count": null,
   "metadata": {},
   "outputs": [],
   "source": [
    "y= df.Outcome.values\n",
    "x=df.drop(['Outcome'],axis=1)\n"
   ]
  },
  {
   "cell_type": "code",
   "execution_count": null,
   "metadata": {},
   "outputs": [],
   "source": [
    "y"
   ]
  },
  {
   "cell_type": "code",
   "execution_count": null,
   "metadata": {},
   "outputs": [],
   "source": [
    "x"
   ]
  },
  {
   "cell_type": "code",
   "execution_count": null,
   "metadata": {},
   "outputs": [],
   "source": [
    "x_train,x_test,y_train,y_test=train_test_split(x,y,test_size=0.1,random_state=0)"
   ]
  },
  {
   "cell_type": "code",
   "execution_count": null,
   "metadata": {},
   "outputs": [],
   "source": [
    "x_train"
   ]
  },
  {
   "cell_type": "code",
   "execution_count": null,
   "metadata": {},
   "outputs": [],
   "source": [
    "x_test"
   ]
  },
  {
   "cell_type": "code",
   "execution_count": null,
   "metadata": {},
   "outputs": [],
   "source": [
    "y_test"
   ]
  },
  {
   "cell_type": "code",
   "execution_count": null,
   "metadata": {},
   "outputs": [],
   "source": [
    "y_train"
   ]
  },
  {
   "cell_type": "code",
   "execution_count": null,
   "metadata": {},
   "outputs": [],
   "source": [
    "accuracies={}\n",
    "lr=LogisticRegression()\n",
    "lr.fit(x_train,y_train)\n",
    "acc=lr.score(x_test,y_test)*100\n",
    "accuracies['Logistic Regression']=acc\n",
    "print(\"Test accuracy {:.2f}%\".format(acc))\n"
   ]
  },
  {
   "cell_type": "code",
   "execution_count": null,
   "metadata": {},
   "outputs": [],
   "source": [
    "from sklearn.ensemble import RandomForestClassifier\n",
    "rf= RandomForestClassifier(n_estimators=1500,random_state=12)\n",
    "rf.fit(x_train,y_train)\n",
    "acc=rf.score(x_test,y_test)*100\n",
    "accuracies['Random Forest']=acc\n",
    "print('Random Forest Algorithm Accuracy Score:{:.2f}%'.format(acc))\n"
   ]
  },
  {
   "cell_type": "code",
   "execution_count": null,
   "metadata": {},
   "outputs": [],
   "source": [
    "from sklearn.svm import SVC\n",
    "svm=SVC(random_state=1)\n",
    "svm.fit(x_train,y_train)\n",
    "acc=svm.score(x_test,y_test)*100\n",
    "accuracies['SVM']=acc\n",
    "print(\"Test Accuracy of SVM Algorithm : {:.2f}%\".format(acc))"
   ]
  },
  {
   "cell_type": "code",
   "execution_count": null,
   "metadata": {},
   "outputs": [],
   "source": [
    "from sklearn.neighbors import KNeighborsClassifier\n",
    "knn = KNeighborsClassifier(n_neighbors =125)\n",
    "knn.fit(x_train,y_train)\n",
    "predicition =knn.predict(x_test)\n",
    "print(\"{} NN Score: {:.2f}%\".format(2,knn.score(x_test,y_test)*100))"
   ]
  }
 ],
 "metadata": {
  "kernelspec": {
   "display_name": "Python 3",
   "language": "python",
   "name": "python3"
  },
  "language_info": {
   "codemirror_mode": {
    "name": "ipython",
    "version": 3
   },
   "file_extension": ".py",
   "mimetype": "text/x-python",
   "name": "python",
   "nbconvert_exporter": "python",
   "pygments_lexer": "ipython3",
   "version": "3.7.1"
  }
 },
 "nbformat": 4,
 "nbformat_minor": 4
}
